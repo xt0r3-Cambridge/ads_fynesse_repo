{
 "cells": [
  {
   "cell_type": "markdown",
   "id": "0b1e4a6f",
   "metadata": {
    "id": "0b1e4a6f"
   },
   "source": [
    "# Assessment for Advanced Data Science\n",
    "\n",
    "## Christian Cabrera, Carl Henrik Ek and Neil D. Lawrence\n",
    "\n",
    "### 29th October 2021\n",
    "\n"
   ]
  },
  {
   "cell_type": "markdown",
   "id": "d7856d1b",
   "metadata": {
    "id": "d7856d1b"
   },
   "source": [
    "Welcome to the course assessment for the Advanced Data Science unit. In this assessment you will build a prediction system for UK house prices. \n",
    "\n",
    "Your prediction system will be based on data from the UK Price Paid data available [here](https://www.gov.uk/government/statistical-data-sets/price-paid-data-downloads). By combining this data with the UK Office for National Statistics data on the latitude/longitude of postcodes (available [here](https://www.getthedata.com/open-postcode-geo)) you will have a record of house prices and their approximate latitude/longitude. Due to the size of these data you will use a relational database to handle them.  \n",
    "\n",
    "To make predictions of the house price you will augment your data with information obtained from Open Street Map: an open license source of mapping information. You will use the techniques you have learnt in the course to indentify and incorporate useful features for house price prediction.\n",
    "\n",
    "\n",
    "\n",
    "Alongside your implementation you will provide a short repository overview describing how you have implemented the different parts of the project and where you have placed those parts in your code repository. You will submit your code alongside a version of this notebook that will allow your examiner to understand and reconstruct the thinking behind your analysis. This notebook is structured to help you in creating that description and allow you to understand how we will allocate the marks. You should make use of the Fynesse framework (<https://github.com/lawrennd/fynesse_template>) for structuring your code. \n",
    "\n",
    "Remember the notebook you create should *tell a story*, any code that is not critical to that story can safely be placed into the associated analysis library and imported for use (structured as given in the Fynesse template)\n",
    "\n",
    "The maximum total mark for this assessment is 20. That mark is split into Three Questions below, each worth 5 marks each. Then a final 5 marks will be given for the quality, structure and reusability of the code and analysis you produce giving 20 marks in total.\n"
   ]
  },
  {
   "cell_type": "markdown",
   "id": "bb7e7c53",
   "metadata": {
    "id": "bb7e7c53"
   },
   "source": [
    "### Useful Links\n",
    "\n",
    "You may find some of the following links useful when building your system.\n",
    "\n",
    "University instuctions on Security and Privacy with AWS.\n",
    "\n",
    "https://help.uis.cam.ac.uk/service/network-services/hosting-services/AWS/aws-security-privacy\n",
    "\n",
    "Security Rules in AWS \n",
    "\n",
    "https://docs.aws.amazon.com/AmazonRDS/latest/UserGuide/USER_VPC.Scenarios.html#USER_VPC.Scenario4"
   ]
  },
  {
   "cell_type": "markdown",
   "id": "9d3ee6ce",
   "metadata": {
    "id": "9d3ee6ce"
   },
   "source": [
    "### Installing Your Library\n",
    "\n",
    "One artefact to be included in your submission is a python library structured according to the \"Access, Assess, Address\" standard for data science solutions. You will submit this library alongside your code. Use the cell below to perform the necessary installation instructions for your library.\n",
    "\n",
    "You should base your module on the template repository given by the Fynesse template repository. That should make it `pip` installable as below. \n",
    "\n"
   ]
  },
  {
   "cell_type": "code",
   "execution_count": 1,
   "id": "402e6d7b-f78e-4eac-b8ae-ec1f0156f8fc",
   "metadata": {
    "execution": {
     "iopub.execute_input": "2023-11-10T10:36:55.561573Z",
     "iopub.status.busy": "2023-11-10T10:36:55.561215Z",
     "iopub.status.idle": "2023-11-10T10:36:55.568477Z",
     "shell.execute_reply": "2023-11-10T10:36:55.567932Z",
     "shell.execute_reply.started": "2023-11-10T10:36:55.561547Z"
    }
   },
   "outputs": [],
   "source": [
    "import sys\n",
    "# TODO: replace with pip installation based on the original repository teplaced with my github repo URL\n",
    "sys.path.insert(0, \"/home/xt0r3-user/cambridge/partii/michaelmas/ads\")"
   ]
  },
  {
   "cell_type": "markdown",
   "id": "c2fafca0",
   "metadata": {
    "id": "c2fafca0"
   },
   "source": [
    "Your own library should be installed in the line above, then you can import it as usual (where you can either replace `fynesse` with the name you've given your analysis module or you can leave the name as `fynesse` as you prefer)."
   ]
  },
  {
   "cell_type": "markdown",
   "id": "17879f8f-a7a1-4590-8852-b1ce28e9bf83",
   "metadata": {},
   "source": [
    "## Global Control Variables"
   ]
  },
  {
   "cell_type": "code",
   "execution_count": 2,
   "id": "6d105ddb-5ea4-4a56-be08-b108e0a1e8eb",
   "metadata": {
    "execution": {
     "iopub.execute_input": "2023-11-10T10:36:55.569854Z",
     "iopub.status.busy": "2023-11-10T10:36:55.569609Z",
     "iopub.status.idle": "2023-11-10T10:36:55.601152Z",
     "shell.execute_reply": "2023-11-10T10:36:55.600250Z",
     "shell.execute_reply.started": "2023-11-10T10:36:55.569837Z"
    }
   },
   "outputs": [],
   "source": [
    "FORCE_RELOAD = False\n",
    "LOCAL_DB = True"
   ]
  },
  {
   "cell_type": "markdown",
   "id": "052c9cb6-4f04-4761-9ed7-69a55c95e87d",
   "metadata": {},
   "source": [
    "## Imports"
   ]
  },
  {
   "cell_type": "code",
   "execution_count": 3,
   "id": "49516151-e5ba-4c04-a902-faa45108df50",
   "metadata": {
    "execution": {
     "iopub.execute_input": "2023-11-10T10:36:55.602398Z",
     "iopub.status.busy": "2023-11-10T10:36:55.602135Z",
     "iopub.status.idle": "2023-11-10T10:36:55.615901Z",
     "shell.execute_reply": "2023-11-10T10:36:55.615279Z",
     "shell.execute_reply.started": "2023-11-10T10:36:55.602370Z"
    }
   },
   "outputs": [],
   "source": [
    "%load_ext autoreload\n",
    "%autoreload 2"
   ]
  },
  {
   "cell_type": "code",
   "execution_count": 4,
   "id": "c96c7d64-52c7-48b3-8265-88507a13b631",
   "metadata": {
    "execution": {
     "iopub.execute_input": "2023-11-10T10:36:55.616561Z",
     "iopub.status.busy": "2023-11-10T10:36:55.616453Z",
     "iopub.status.idle": "2023-11-10T10:36:55.640929Z",
     "shell.execute_reply": "2023-11-10T10:36:55.640563Z",
     "shell.execute_reply.started": "2023-11-10T10:36:55.616549Z"
    }
   },
   "outputs": [],
   "source": [
    "import fynesse"
   ]
  },
  {
   "cell_type": "code",
   "execution_count": 5,
   "id": "2ee17c31-8338-4893-b2b2-ad4d340db67d",
   "metadata": {
    "execution": {
     "iopub.execute_input": "2023-11-10T10:36:55.641545Z",
     "iopub.status.busy": "2023-11-10T10:36:55.641427Z",
     "iopub.status.idle": "2023-11-10T10:36:56.185879Z",
     "shell.execute_reply": "2023-11-10T10:36:56.185328Z",
     "shell.execute_reply.started": "2023-11-10T10:36:55.641532Z"
    }
   },
   "outputs": [],
   "source": [
    "from pathlib import Path\n",
    "import osmnx as ox\n",
    "import geopandas as gpd\n",
    "import pandas as pd\n",
    "import numpy as np\n",
    "from matplotlib import pyplot as plt\n",
    "import seaborn as sns\n",
    "\n",
    "import yaml\n",
    "from ipywidgets import Password, Text, interact_manual"
   ]
  },
  {
   "cell_type": "markdown",
   "id": "26533cf6",
   "metadata": {
    "id": "26533cf6"
   },
   "source": [
    "## Question 1. Accessing a Database of House Prices, Latitudes and Longitudes\n",
    "\n",
    "The UK price paid data for housing in dates back to 1995 and contains millions of transactions. The size of the data makes it unwieldy to manipulate directly in python frameworks such as `pandas`. As a result we will host the data in a *relational database*. \n",
    "\n",
    "Using the following ideas.\n",
    "\n",
    "1. A cloud hosted database (such as MariaDB hosted on the AWS RDS service).\n",
    "2. The SQL language wrapped in appropriately structured python code.\n",
    "3. Joining of two databases.\n",
    "\n",
    "You will construct a database containing tables that contain all house prices, latitudes and longitudes from the UK house price data base since 1995.\n",
    "\n",
    "You will likely find the following resources helpful.\n",
    "\n",
    "1. Lecture 1, 2 and 3.\n",
    "2. Lab class 1 and 2.\n",
    "3. The UK Price Paid data for houses: <https://www.gov.uk/government/statistical-data-sets/price-paid-data-downloads>\n",
    "4. The UK ONS Data base of postcode latitude and longitudes:  <https://www.getthedata.com/open-postcode-geo>\n",
    "\n",
    "Below we provide codeboxes and hints to help you develop your answer.\n",
    "\n",
    "*The main knowledge you need to do a first pass through this question will have been taught by the end of Lab Session 2 (11th November 2021). You will likely want to review your answer as part of **refactoring** your code  and analysis pipeline shortly before hand in.*\n",
    "\n",
    "*5 Marks*"
   ]
  },
  {
   "cell_type": "markdown",
   "id": "89e4b052-f5da-4f5c-96f9-118dae44df21",
   "metadata": {},
   "source": [
    "### Licenses"
   ]
  },
  {
   "cell_type": "code",
   "execution_count": 6,
   "id": "67413b76-f9db-488b-9a96-37f05cbc2a0e",
   "metadata": {
    "execution": {
     "iopub.execute_input": "2023-11-10T10:36:56.186776Z",
     "iopub.status.busy": "2023-11-10T10:36:56.186494Z",
     "iopub.status.idle": "2023-11-10T10:36:56.198434Z",
     "shell.execute_reply": "2023-11-10T10:36:56.197781Z",
     "shell.execute_reply.started": "2023-11-10T10:36:56.186763Z"
    }
   },
   "outputs": [
    {
     "name": "stdout",
     "output_type": "stream",
     "text": [
      "Contains HM Land Registry data © Crown copyright and database right 2021. \n",
      "This data is licensed under the Open Government Licence v3.0.\n",
      "\n",
      "Contains OS data © Crown copyright and database right 2023\n",
      "Contains OS data © Crown copyright and database right 2023\n",
      "Contains Royal Mail data © Royal Mail copyright and database right 2023\n",
      "Contains OS data © Crown copyright and database right 2023\n",
      "Contains Royal Mail data © Royal Mail copyright and Database right 2023\n",
      "Contains GeoPlace data © Local Government Information House Limited copyright and database right 2023\n",
      "Source: Office for National Statistics licensed under the Open Government Licence v.3.0\n",
      "\n"
     ]
    }
   ],
   "source": [
    "print(fynesse.access.legal())"
   ]
  },
  {
   "cell_type": "markdown",
   "id": "fd689312",
   "metadata": {
    "id": "fd689312"
   },
   "source": [
    "### Task A\n",
    "\n",
    "Set up the database. You'll need to set up a database on AWS. You were guided in how to do this in the lab sessions. You should be able to use the same database instance you created in the lab, or you can delete that and start with a fresh instance. You'll remember from the lab that the database requires credentials (username, password) to access. It's good practice to store those credentials *outside* the notebook so you don't accidentally share them by e.g. checking code into a repository. \n",
    "  \n",
    "Call the database you use for this assessment `property_prices`.\n",
    "  "
   ]
  },
  {
   "cell_type": "code",
   "execution_count": 7,
   "id": "feaf09b9",
   "metadata": {
    "execution": {
     "iopub.execute_input": "2023-11-10T10:36:56.200399Z",
     "iopub.status.busy": "2023-11-10T10:36:56.200026Z",
     "iopub.status.idle": "2023-11-10T10:36:56.212136Z",
     "shell.execute_reply": "2023-11-10T10:36:56.211675Z",
     "shell.execute_reply.started": "2023-11-10T10:36:56.200384Z"
    },
    "id": "feaf09b9"
   },
   "outputs": [],
   "source": [
    "if not Path(\"credentials.yaml\").exists():\n",
    "\n",
    "    @interact_manual(\n",
    "        username=Text(description=\"Username:\"),\n",
    "        password=Password(description=\"Password:\"),\n",
    "    )\n",
    "    def write_credentials(username, password):\n",
    "        with open(\"credentials.yaml\", \"w\") as file:\n",
    "            credentials_dict = {\"username\": username, \"password\": password}\n",
    "            yaml.dump(credentials_dict, file)"
   ]
  },
  {
   "cell_type": "code",
   "execution_count": 8,
   "id": "352e72fc-5d21-4f6e-817f-e0193e319af0",
   "metadata": {
    "execution": {
     "iopub.execute_input": "2023-11-10T10:36:56.212767Z",
     "iopub.status.busy": "2023-11-10T10:36:56.212653Z",
     "iopub.status.idle": "2023-11-10T10:36:56.230301Z",
     "shell.execute_reply": "2023-11-10T10:36:56.229656Z",
     "shell.execute_reply.started": "2023-11-10T10:36:56.212755Z"
    }
   },
   "outputs": [],
   "source": [
    "with open(\"credentials.yaml\") as file:\n",
    "    credentials = yaml.safe_load(file)\n",
    "\n",
    "db = fynesse.access.GlobalDatabaseManager(\n",
    "    username = credentials['username'],\n",
    "    password = credentials['password'],\n",
    ")\n",
    "\n",
    "loader = fynesse.access.DatasetLoader(db)"
   ]
  },
  {
   "cell_type": "code",
   "execution_count": 9,
   "id": "8ba3a75f-9cc5-4861-bb1c-08ae1c3ab860",
   "metadata": {
    "execution": {
     "iopub.execute_input": "2023-11-10T10:36:56.231099Z",
     "iopub.status.busy": "2023-11-10T10:36:56.230943Z",
     "iopub.status.idle": "2023-11-10T10:36:56.242285Z",
     "shell.execute_reply": "2023-11-10T10:36:56.241838Z",
     "shell.execute_reply.started": "2023-11-10T10:36:56.231081Z"
    }
   },
   "outputs": [],
   "source": [
    "loader.create_main_table()"
   ]
  },
  {
   "cell_type": "markdown",
   "id": "33c7237f",
   "metadata": {
    "id": "33c7237f"
   },
   "source": [
    "### Task B\n",
    "\n",
    "Create a database table called `pp_data` containing all the UK Price Paid data from the [gov.uk site](https://www.gov.uk/government/statistical-data-sets/price-paid-data-downloads). You'll need to prepare a new table to receive the data and upload the UK Price Paid data to your database instance. The total data is over 3 gigabytes in size. We suggest that rather than downloading the full data in CSV format, you use the fact that they have split the data into years and into different parts per year. For example, the first part of the data for 2018 is stored at <http://prod.publicdata.landregistry.gov.uk.s3-website-eu-west-1.amazonaws.com/pp-2018-part1.csv>. Each of these files is less than 100MB and can be downloaded very quickly to local disk, then uploaded using \n",
    "\n",
    "\n",
    "```\n",
    "LOCAL DATA LOAD INFILE 'filename' INTO TABLE `table_name`\n",
    "FIELDS TERMINATED BY ',' \n",
    "LINES STARTING BY '' TERMINATED BY '\\n';\n",
    "```\n",
    "*Note* this command should be wrapped and placed in an appropriately structured python module. \n",
    "\n",
    "Each 'data part' should be downloadable from the `gov.uk` site and uploadable to your database instance in a couple of seconds. By looping across the years and different parts, you should be able to robustly upload this large data set to your database instance in a matter of minutes. \n",
    "\n",
    "You may find the following schema useful in creation of your database:\n",
    "\n",
    "```\n",
    "--\n",
    "-- Table structure for table `pp_data`\n",
    "--\n",
    "DROP TABLE IF EXISTS `pp_data`;\n",
    "CREATE TABLE IF NOT EXISTS `pp_data` (\n",
    "  `transaction_unique_identifier` tinytext COLLATE utf8_bin NOT NULL,\n",
    "  `price` int(10) unsigned NOT NULL,\n",
    "  `date_of_transfer` date NOT NULL,\n",
    "  `postcode` varchar(8) COLLATE utf8_bin NOT NULL,\n",
    "  `property_type` varchar(1) COLLATE utf8_bin NOT NULL,\n",
    "  `new_build_flag` varchar(1) COLLATE utf8_bin NOT NULL,\n",
    "  `tenure_type` varchar(1) COLLATE utf8_bin NOT NULL,\n",
    "  `primary_addressable_object_name` tinytext COLLATE utf8_bin NOT NULL,\n",
    "  `secondary_addressable_object_name` tinytext COLLATE utf8_bin NOT NULL,\n",
    "  `street` tinytext COLLATE utf8_bin NOT NULL,\n",
    "  `locality` tinytext COLLATE utf8_bin NOT NULL,\n",
    "  `town_city` tinytext COLLATE utf8_bin NOT NULL,\n",
    "  `district` tinytext COLLATE utf8_bin NOT NULL,\n",
    "  `county` tinytext COLLATE utf8_bin NOT NULL,\n",
    "  `ppd_category_type` varchar(2) COLLATE utf8_bin NOT NULL,\n",
    "  `record_status` varchar(2) COLLATE utf8_bin NOT NULL,\n",
    "  `db_id` bigint(20) unsigned NOT NULL\n",
    ") DEFAULT CHARSET=utf8 COLLATE=utf8_bin AUTO_INCREMENT=1 ;\n",
    "```\n",
    "This schema is written by Dale Potter and can be found on Github here: <https://github.com/dalepotter/uk_property_price_data/blob/master/create_db.sql>\n",
    "\n",
    "You may also find it helpful to set up the following primary key in the database\n",
    "\n",
    "```\n",
    "--\n",
    "-- Primary key for table `pp_data`\n",
    "--\n",
    "ALTER TABLE `pp_data`\n",
    "ADD PRIMARY KEY (`db_id`);\n",
    "MODIFY `db_id` bigint(20) unsigned NOT NULL AUTO_INCREMENT,AUTO_INCREMENT=1;\n",
    "```"
   ]
  },
  {
   "cell_type": "markdown",
   "id": "e789b174",
   "metadata": {
    "id": "e789b174"
   },
   "source": [
    "In the box below, briefly describe what the schema is doing."
   ]
  },
  {
   "cell_type": "markdown",
   "id": "d7d9d674",
   "metadata": {
    "id": "d7d9d674"
   },
   "source": [
    "```GIVE YOUR WRITTEN ANSWER HERE```\n",
    "\n",
    "\n",
    "TODO: refine this  \n",
    "\n",
    "It gives the types of different columns of the database.  \n",
    "E.g. `varchar(8) COLLATE utf8_bin NOT NULL,` means an `utf_8` encoded character sequence of length at most 8 without missing values."
   ]
  },
  {
   "cell_type": "code",
   "execution_count": 13,
   "id": "4c130f9f-9f7d-49ec-b2e0-78acb6731fa9",
   "metadata": {
    "execution": {
     "iopub.execute_input": "2023-11-10T10:38:28.558842Z",
     "iopub.status.busy": "2023-11-10T10:38:28.558524Z",
     "iopub.status.idle": "2023-11-10T10:38:59.789468Z",
     "shell.execute_reply": "2023-11-10T10:38:59.788791Z",
     "shell.execute_reply.started": "2023-11-10T10:38:28.558827Z"
    }
   },
   "outputs": [
    {
     "name": "stderr",
     "output_type": "stream",
     "text": [
      "100%|█████████████████████████████████████████████████████████████████████████████████████████████| 10/10 [00:18<00:00,  1.82s/it]\n"
     ]
    }
   ],
   "source": [
    "loader.process_prices()"
   ]
  },
  {
   "cell_type": "code",
   "execution_count": 16,
   "id": "c4287f30-ab21-4ddb-a159-a2cb5d1ec98a",
   "metadata": {
    "execution": {
     "iopub.execute_input": "2023-11-10T10:39:07.003521Z",
     "iopub.status.busy": "2023-11-10T10:39:07.002984Z",
     "iopub.status.idle": "2023-11-10T10:39:07.021454Z",
     "shell.execute_reply": "2023-11-10T10:39:07.020755Z",
     "shell.execute_reply.started": "2023-11-10T10:39:07.003498Z"
    }
   },
   "outputs": [
    {
     "data": {
      "text/plain": [
       "[{'transaction_unique_identifier': '{79A74E21-D11E-1289-E053-6B04A8C01627}',\n",
       "  'price': 770000,\n",
       "  'date_of_transfer': datetime.date(2018, 9, 25),\n",
       "  'postcode': 'SK7 1AR',\n",
       "  'property_type': 'D',\n",
       "  'new_build_flag': 'N',\n",
       "  'tenure_type': 'F',\n",
       "  'primary_addressable_object_name': '5',\n",
       "  'secondary_addressable_object_name': '',\n",
       "  'street': 'OAK MEADOW',\n",
       "  'locality': 'BRAMHALL',\n",
       "  'town_city': 'STOCKPORT',\n",
       "  'district': 'STOCKPORT',\n",
       "  'county': 'GREATER MANCHESTER',\n",
       "  'ppd_category_type': 'A',\n",
       "  'record_status': 'A',\n",
       "  'db_id': 1}]"
      ]
     },
     "execution_count": 16,
     "metadata": {},
     "output_type": "execute_result"
    }
   ],
   "source": [
    "d = loader.sample(1, 'pp_data')\n",
    "d"
   ]
  },
  {
   "cell_type": "markdown",
   "id": "bb9ece66",
   "metadata": {
    "id": "bb9ece66"
   },
   "source": [
    "### Task C\n",
    "\n",
    "Create a database table called `postcode_data` containing the ONS Postcode information. <GetTheData.com> has organised data derived from the UK Office for National Statistics into a convenient CSV file. You can find details [here](https://www.getthedata.com/open-postcode-geo).\n",
    "\n",
    "\n",
    "The data you need can be found at this url: <https://www.getthedata.com/downloads/open_postcode_geo.csv.zip>. It will need to be unzipped before use.\n",
    "\n",
    "You may find the following schema useful for the postcode data (developed by Christian and Neil)\n",
    "\n",
    "```\n",
    "USE `property_prices`;\n",
    "--\n",
    "-- Table structure for table `postcode_data`\n",
    "--\n",
    "DROP TABLE IF EXISTS `postcode_data`;\n",
    "CREATE TABLE IF NOT EXISTS `postcode_data` (\n",
    "  `postcode` varchar(8) COLLATE utf8_bin NOT NULL,\n",
    "  `status` enum('live','terminated') NOT NULL,\n",
    "  `usertype` enum('small', 'large') NOT NULL,\n",
    "  `easting` int unsigned,\n",
    "  `northing` int unsigned,\n",
    "  `positional_quality_indicator` int NOT NULL,\n",
    "  `country` enum('England', 'Wales', 'Scotland', 'Northern Ireland', 'Channel Islands', 'Isle of Man') NOT NULL,\n",
    "  `lattitude` decimal(11,8) NOT NULL,\n",
    "  `longitude` decimal(10,8) NOT NULL,\n",
    "  `postcode_no_space` tinytext COLLATE utf8_bin NOT NULL,\n",
    "  `postcode_fixed_width_seven` varchar(7) COLLATE utf8_bin NOT NULL,\n",
    "  `postcode_fixed_width_eight` varchar(8) COLLATE utf8_bin NOT NULL,\n",
    "  `postcode_area` varchar(2) COLLATE utf8_bin NOT NULL,\n",
    "  `postcode_district` varchar(4) COLLATE utf8_bin NOT NULL,\n",
    "  `postcode_sector` varchar(6) COLLATE utf8_bin NOT NULL,\n",
    "  `outcode` varchar(4) COLLATE utf8_bin NOT NULL,\n",
    "  `incode` varchar(3)  COLLATE utf8_bin NOT NULL,\n",
    "  `db_id` bigint(20) unsigned NOT NULL\n",
    ") DEFAULT CHARSET=utf8 COLLATE=utf8_bin;\n",
    "```\n",
    "\n",
    "And you can load the CSV file into the table in one \"INFILE\".\n",
    "\n",
    "```\n",
    "LOAD DATA LOCAL INFILE 'open_postcode_geo.csv' INTO TABLE `postcode_data`\n",
    "FIELDS TERMINATED BY ',' \n",
    "LINES STARTING BY '' TERMINATED BY '\\n';\n",
    "```"
   ]
  },
  {
   "cell_type": "code",
   "execution_count": 17,
   "id": "4018ec65-0b0d-4774-9727-0fde81af9cb2",
   "metadata": {
    "execution": {
     "iopub.execute_input": "2023-11-10T10:39:10.603629Z",
     "iopub.status.busy": "2023-11-10T10:39:10.602699Z",
     "iopub.status.idle": "2023-11-10T10:39:25.634084Z",
     "shell.execute_reply": "2023-11-10T10:39:25.633539Z",
     "shell.execute_reply.started": "2023-11-10T10:39:10.603583Z"
    }
   },
   "outputs": [
    {
     "name": "stderr",
     "output_type": "stream",
     "text": [
      "100%|███████████████████████████████████████████████████████████████████████████████████████████████| 1/1 [00:11<00:00, 11.05s/it]\n"
     ]
    }
   ],
   "source": [
    "loader.process_postcodes()"
   ]
  },
  {
   "cell_type": "code",
   "execution_count": 18,
   "id": "7baceb95-0eda-48e7-9107-363e1c48bc0f",
   "metadata": {
    "execution": {
     "iopub.execute_input": "2023-11-10T10:39:25.634941Z",
     "iopub.status.busy": "2023-11-10T10:39:25.634805Z",
     "iopub.status.idle": "2023-11-10T10:39:25.648976Z",
     "shell.execute_reply": "2023-11-10T10:39:25.648140Z",
     "shell.execute_reply.started": "2023-11-10T10:39:25.634929Z"
    }
   },
   "outputs": [
    {
     "data": {
      "text/plain": [
       "[{'postcode': 'AB1 0AA',\n",
       "  'status': 'terminated',\n",
       "  'usertype': 'small',\n",
       "  'easting': 385386,\n",
       "  'northing': 801193,\n",
       "  'positional_quality_indicator': 1,\n",
       "  'country': 'Scotland',\n",
       "  'lattitude': Decimal('57.10147400'),\n",
       "  'longitude': Decimal('-2.24285100'),\n",
       "  'postcode_no_space': 'AB10AA',\n",
       "  'postcode_fixed_width_seven': 'AB1 0AA',\n",
       "  'postcode_fixed_width_eight': 'AB1  0AA',\n",
       "  'postcode_area': 'AB',\n",
       "  'postcode_district': 'AB1',\n",
       "  'postcode_sector': 'AB1 0',\n",
       "  'outcode': 'AB1',\n",
       "  'incode': '0AA',\n",
       "  'db_id': 1}]"
      ]
     },
     "execution_count": 18,
     "metadata": {},
     "output_type": "execute_result"
    }
   ],
   "source": [
    "loader.sample(1, 'postcode_data')"
   ]
  },
  {
   "cell_type": "markdown",
   "id": "d67ca4ef",
   "metadata": {
    "id": "d67ca4ef"
   },
   "source": [
    "### Task D \n",
    "\n",
    "These data can now be joined to form a new table that contains house price paid and latitude longitude of the house. We could create a new table that contains all this information. However, the computation of that table will take some time because of the size of the two existing tables in the join. \n",
    "\n",
    "Instead, we're going to exploit the nature of the task. To build our prediction model, we're going to use the prices for a particular region in a given time period. This means we can select that region and time period and build the joined data only from the relevent rows from the two tables. This will save time on the join.\n",
    "\n",
    "Whether this is a good idea or not in a live system will depend on how often these predictions are required. If it's very often, it would likely be better to store the entired database joined, because the one-off cost for that join is amortised across all the future predictions. If only a few predictions are required (like in our lab class) then doing that join on the fly might be better. In that case you can make use of an  *inner join* for this data set creation.\n",
    "\n",
    "```\n",
    "USE `property_prices`;\n",
    "--\n",
    "-- Table structure for table `prices_coordinates_data`\n",
    "--\n",
    "DROP TABLE IF EXISTS `prices_coordinates_data`;\n",
    "CREATE TABLE IF NOT EXISTS `prices_coordinates_data` (\n",
    "  `price` int(10) unsigned NOT NULL,\n",
    "  `date_of_transfer` date NOT NULL,\n",
    "  `postcode` varchar(8) COLLATE utf8_bin NOT NULL,\n",
    "  `property_type` varchar(1) COLLATE utf8_bin NOT NULL,\n",
    "  `new_build_flag` varchar(1) COLLATE utf8_bin NOT NULL,\n",
    "  `tenure_type` varchar(1) COLLATE utf8_bin NOT NULL,\n",
    "  `locality` tinytext COLLATE utf8_bin NOT NULL,\n",
    "  `town_city` tinytext COLLATE utf8_bin NOT NULL,\n",
    "  `district` tinytext COLLATE utf8_bin NOT NULL,\n",
    "  `county` tinytext COLLATE utf8_bin NOT NULL,\n",
    "  `country` enum('England', 'Wales', 'Scotland', 'Northern Ireland', 'Channel Islands', 'Isle of Man') NOT NULL,\n",
    "  `lattitude` decimal(11,8) NOT NULL,\n",
    "  `longitude` decimal(10,8) NOT NULL,\n",
    "  `db_id` bigint(20) unsigned NOT NULL\n",
    ") DEFAULT CHARSET=utf8 COLLATE=utf8_bin AUTO_INCREMENT=1 ;\n",
    "\n",
    "\n",
    "```\n",
    "\n"
   ]
  },
  {
   "cell_type": "code",
   "execution_count": null,
   "id": "1d015c2c-aeda-44c3-8982-5c2e130755f6",
   "metadata": {
    "execution": {
     "iopub.status.busy": "2023-11-10T10:37:51.692588Z",
     "iopub.status.idle": "2023-11-10T10:37:51.692717Z",
     "shell.execute_reply": "2023-11-10T10:37:51.692653Z",
     "shell.execute_reply.started": "2023-11-10T10:37:51.692647Z"
    }
   },
   "outputs": [],
   "source": [
    "assert False"
   ]
  },
  {
   "cell_type": "code",
   "execution_count": 21,
   "id": "f2e29f34-c9b6-40bd-ab96-5d82c5123d7a",
   "metadata": {
    "execution": {
     "iopub.execute_input": "2023-11-10T10:40:13.069201Z",
     "iopub.status.busy": "2023-11-10T10:40:13.068663Z",
     "iopub.status.idle": "2023-11-10T10:41:02.310213Z",
     "shell.execute_reply": "2023-11-10T10:41:02.309455Z",
     "shell.execute_reply.started": "2023-11-10T10:40:13.069165Z"
    }
   },
   "outputs": [],
   "source": [
    "loader.create_merged_table()"
   ]
  },
  {
   "cell_type": "code",
   "execution_count": 22,
   "id": "44e8a628-0c0a-44b9-b99d-4320b8f4eb60",
   "metadata": {
    "execution": {
     "iopub.execute_input": "2023-11-10T10:41:02.312245Z",
     "iopub.status.busy": "2023-11-10T10:41:02.311986Z",
     "iopub.status.idle": "2023-11-10T10:41:02.328723Z",
     "shell.execute_reply": "2023-11-10T10:41:02.328261Z",
     "shell.execute_reply.started": "2023-11-10T10:41:02.312220Z"
    }
   },
   "outputs": [
    {
     "data": {
      "text/plain": [
       "[{'price': 640000,\n",
       "  'date_of_transfer': datetime.date(2019, 8, 9),\n",
       "  'postcode': 'AL1 1AJ',\n",
       "  'property_type': 'S',\n",
       "  'new_build_flag': 'N',\n",
       "  'tenure_type': 'F',\n",
       "  'locality': '',\n",
       "  'town_city': 'ST ALBANS',\n",
       "  'district': 'ST ALBANS',\n",
       "  'county': 'HERTFORDSHIRE',\n",
       "  'country': 'England',\n",
       "  'lattitude': Decimal('51.74449800'),\n",
       "  'longitude': Decimal('-0.32859900'),\n",
       "  'db_id': 1}]"
      ]
     },
     "execution_count": 22,
     "metadata": {},
     "output_type": "execute_result"
    }
   ],
   "source": [
    "loader.sample(1, 'prices_coordinates_data')"
   ]
  },
  {
   "cell_type": "markdown",
   "id": "df36e5d1",
   "metadata": {
    "id": "df36e5d1"
   },
   "source": [
    "## Question 2. Accessing OpenStreetMap and Assessing the Available Features\n",
    "\n",
    "In question 3 you will be given the task of constructing a prediction system for property price levels at a given location. We expect that knowledge of the local region around the property should be helpful in making those price predictions. To evaluate this we will now look at [OpenStreetMap](https://www.openstreetmap.org) as a data source.\n",
    "\n",
    "The tasks below will guide you in accessing and assessing the OpenStreetMap data. The code you write will eventually be assimilated in your python module, but documentation of what you've included and why should remain in the notebook below. \n",
    "\n",
    "Accessing OpenStreetMap through its API can be done using the python library `osmx`. Using what you have learned about the `osmx` interface in the lectures, write general code for downloading points of interest and other relevant information that you believe may be useful for predicting house prices. Remembering the perspectives we've taken on *data science as debugging*, the remarks we've made when discussing *the data crisis* of the importance of reusability in data analysis, and the techniques we've explored in the labsessions for visualising features and exploring their correlation use the notebook to document your assessment of the OpenStreetMap data as a potential source of data.\n",
    "\n",
    "The knowledge you need to do a first pass through this question will have been taught by end of lab session three (16th November 2021). You will likely want to review your answer as part of *refactoring* your code and analysis pipeline shortly before hand in.\n",
    "\n",
    "You should write reusable code that allows you to explore the characteristics of different points of interest. Looking ahead to question 3 you'll want to incorporate these points of interest in your prediction code.\n",
    "\n",
    "*5 marks*\n"
   ]
  },
  {
   "cell_type": "code",
   "execution_count": null,
   "id": "ea91c6ab-0e51-417b-ab26-ad57b5301a7b",
   "metadata": {
    "execution": {
     "iopub.status.busy": "2023-11-10T10:37:51.694151Z",
     "iopub.status.idle": "2023-11-10T10:37:51.694276Z",
     "shell.execute_reply": "2023-11-10T10:37:51.694218Z",
     "shell.execute_reply.started": "2023-11-10T10:37:51.694212Z"
    }
   },
   "outputs": [],
   "source": [
    "# https://osmnx.readthedocs.io/en/stable/user-reference.html\n",
    "# TODO: remove"
   ]
  },
  {
   "cell_type": "code",
   "execution_count": null,
   "id": "6ec80ddd-a77b-479b-90df-5fc6e8ab14f7",
   "metadata": {
    "execution": {
     "iopub.status.busy": "2023-11-10T10:37:51.694543Z",
     "iopub.status.idle": "2023-11-10T10:37:51.694665Z",
     "shell.execute_reply": "2023-11-10T10:37:51.694606Z",
     "shell.execute_reply.started": "2023-11-10T10:37:51.694600Z"
    }
   },
   "outputs": [],
   "source": [
    "df = pd.DataFrame(loader.sample(100, 'prices_coordinates_data'))\n",
    "df"
   ]
  },
  {
   "cell_type": "code",
   "execution_count": null,
   "id": "d8819518-1f12-4d8f-84c7-bedc7fcb63ca",
   "metadata": {
    "execution": {
     "iopub.status.busy": "2023-11-10T10:37:51.695282Z",
     "iopub.status.idle": "2023-11-10T10:37:51.695418Z",
     "shell.execute_reply": "2023-11-10T10:37:51.695348Z",
     "shell.execute_reply.started": "2023-11-10T10:37:51.695342Z"
    }
   },
   "outputs": [],
   "source": [
    "data = df.iloc[6]"
   ]
  },
  {
   "cell_type": "code",
   "execution_count": null,
   "id": "da900909-1435-4bfb-91a9-f3c39d43c78d",
   "metadata": {
    "execution": {
     "iopub.status.busy": "2023-11-10T10:37:51.695943Z",
     "iopub.status.idle": "2023-11-10T10:37:51.696069Z",
     "shell.execute_reply": "2023-11-10T10:37:51.696010Z",
     "shell.execute_reply.started": "2023-11-10T10:37:51.696003Z"
    }
   },
   "outputs": [],
   "source": [
    "# Setup fixed variables\n",
    "building_tags = {\"building\": \"yes\"}\n",
    "\n",
    "# Retrieve POIs\n",
    "def show_buildings(\n",
    "    place_name,\n",
    "    latitude,\n",
    "    longitude,\n",
    "    box_width=0.02,\n",
    "    box_height=0.02,\n",
    "):\n",
    "    town = place_name.split(\",\")[0].lower()\n",
    "\n",
    "    box_north = latitude + box_height / 2\n",
    "    box_south = latitude - box_height / 2\n",
    "    box_west = longitude - box_width / 2\n",
    "    box_east = longitude + box_width / 2\n",
    "    pois = ox.geometries_from_bbox(box_north, box_south, box_east, box_west, building_tags)\n",
    "\n",
    "    # display(pois.sample(5, random_state=123124))\n",
    "    return pois\n",
    "\n",
    "\n",
    "pois = show_buildings(\n",
    "    place_name=f\"{data['town_city']}, {data['country']}\".lower(),\n",
    "    latitude=float(data['lattitude']),\n",
    "    longitude=float(data['longitude']),\n",
    "    box_width=0.005,\n",
    "    box_height=0.005,\n",
    ")"
   ]
  },
  {
   "cell_type": "code",
   "execution_count": null,
   "id": "7222a41c-e451-460d-8311-5bfd5a230f65",
   "metadata": {
    "execution": {
     "iopub.status.busy": "2023-11-10T10:37:51.696510Z",
     "iopub.status.idle": "2023-11-10T10:37:51.696635Z",
     "shell.execute_reply": "2023-11-10T10:37:51.696576Z",
     "shell.execute_reply.started": "2023-11-10T10:37:51.696570Z"
    }
   },
   "outputs": [],
   "source": [
    "pois.plot()"
   ]
  },
  {
   "cell_type": "code",
   "execution_count": null,
   "id": "1cbfe8af-20e9-4323-8ffa-75a3b3c7bfcf",
   "metadata": {
    "execution": {
     "iopub.status.busy": "2023-11-10T10:37:51.697341Z",
     "iopub.status.idle": "2023-11-10T10:37:51.697469Z",
     "shell.execute_reply": "2023-11-10T10:37:51.697409Z",
     "shell.execute_reply.started": "2023-11-10T10:37:51.697403Z"
    }
   },
   "outputs": [],
   "source": [
    "# geometry = gpd.points_from_xy(pois.longitude, pois.latitude)\n",
    "# hosp_gdf = gpd.GeoDataFrame(df,\n",
    "#                             geometry=geometry)\n",
    "# hosp_gdf.crs = \"EPSG:4326\""
   ]
  },
  {
   "cell_type": "code",
   "execution_count": null,
   "id": "042a2863",
   "metadata": {
    "execution": {
     "iopub.status.busy": "2023-11-10T10:37:51.697920Z",
     "iopub.status.idle": "2023-11-10T10:37:51.698063Z",
     "shell.execute_reply": "2023-11-10T10:37:51.697995Z",
     "shell.execute_reply.started": "2023-11-10T10:37:51.697988Z"
    },
    "id": "042a2863"
   },
   "outputs": [],
   "source": [
    "# Use this cell and cells below for summarising your analysis and documenting your decision making.\n",
    "# TODO"
   ]
  },
  {
   "cell_type": "markdown",
   "id": "09a0e365",
   "metadata": {
    "id": "09a0e365"
   },
   "source": [
    "## Question 3. Addressing a Property Price Prediction Question\n",
    "\n",
    "For your final tick, we will be asking you to make house price predictions for a given location, date and property type in the UK. You will provide a function that takes input a latitude and longitude as well as the `property_type` (either type\" of property (either `F` - flat, `S` - semidetached, `D` - detached, `T` - terraced or `O` other). Create this function in the `address.py` file, for example in the form,\n",
    "\n",
    "```\n",
    "def predict_price(latitude, longitude, date, property_type):\n",
    "    \"\"\"Price prediction for UK housing.\"\"\"\n",
    "    pass\n",
    "```\n",
    "\n",
    "We suggest that you use the following approach when building your prediction. \n",
    "\n",
    "1. Select a bounding box around the housing location in latitude and longitude.\n",
    "2. Select a data range around the prediction date. \n",
    "3. Use the data ecosystem you have build above to build a training set from the relevant time period and location in the UK. Include appropriate features from OSM to improve the prediction.\n",
    "4. Train a linear model on the data set you have created.\n",
    "5. Validate the quality of the model.\n",
    "6. Provide a prediction of the price from the model, warning appropriately if your validation indicates the quality of the model is poor.\n",
    "\n",
    "The knowledge you need to do a first pass through this question will have been taught by end of lab session four (25th November 2021). You will likely want to review your answer as part of *refactoring* your code shortly before hand in.\n",
    "\n"
   ]
  }
 ],
 "metadata": {
  "colab": {
   "provenance": []
  },
  "kernelspec": {
   "display_name": "Python 3 (ipykernel)",
   "language": "python",
   "name": "python3"
  },
  "language_info": {
   "codemirror_mode": {
    "name": "ipython",
    "version": 3
   },
   "file_extension": ".py",
   "mimetype": "text/x-python",
   "name": "python",
   "nbconvert_exporter": "python",
   "pygments_lexer": "ipython3",
   "version": "3.8.18"
  }
 },
 "nbformat": 4,
 "nbformat_minor": 5
}
