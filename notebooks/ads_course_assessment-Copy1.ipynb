{
 "cells": [
  {
   "cell_type": "markdown",
   "id": "0b1e4a6f",
   "metadata": {
    "id": "0b1e4a6f"
   },
   "source": [
    "# Assessment for Advanced Data Science\n",
    "\n",
    "## Christian Cabrera, Carl Henrik Ek and Neil D. Lawrence\n",
    "\n",
    "### 29th October 2021\n",
    "\n"
   ]
  },
  {
   "cell_type": "markdown",
   "id": "d7856d1b",
   "metadata": {
    "id": "d7856d1b"
   },
   "source": [
    "Welcome to the course assessment for the Advanced Data Science unit. In this assessment you will build a prediction system for UK house prices. \n",
    "\n",
    "Your prediction system will be based on data from the UK Price Paid data available [here](https://www.gov.uk/government/statistical-data-sets/price-paid-data-downloads). By combining this data with the UK Office for National Statistics data on the latitude/longitude of postcodes (available [here](https://www.getthedata.com/open-postcode-geo)) you will have a record of house prices and their approximate latitude/longitude. Due to the size of these data you will use a relational database to handle them.  \n",
    "\n",
    "To make predictions of the house price you will augment your data with information obtained from Open Street Map: an open license source of mapping information. You will use the techniques you have learnt in the course to indentify and incorporate useful features for house price prediction.\n",
    "\n",
    "\n",
    "\n",
    "Alongside your implementation you will provide a short repository overview describing how you have implemented the different parts of the project and where you have placed those parts in your code repository. You will submit your code alongside a version of this notebook that will allow your examiner to understand and reconstruct the thinking behind your analysis. This notebook is structured to help you in creating that description and allow you to understand how we will allocate the marks. You should make use of the Fynesse framework (<https://github.com/lawrennd/fynesse_template>) for structuring your code. \n",
    "\n",
    "Remember the notebook you create should *tell a story*, any code that is not critical to that story can safely be placed into the associated analysis library and imported for use (structured as given in the Fynesse template)\n",
    "\n",
    "The maximum total mark for this assessment is 20. That mark is split into Three Questions below, each worth 5 marks each. Then a final 5 marks will be given for the quality, structure and reusability of the code and analysis you produce giving 20 marks in total.\n"
   ]
  },
  {
   "cell_type": "markdown",
   "id": "bb7e7c53",
   "metadata": {
    "id": "bb7e7c53"
   },
   "source": [
    "### Useful Links\n",
    "\n",
    "You may find some of the following links useful when building your system.\n",
    "\n",
    "University instuctions on Security and Privacy with AWS.\n",
    "\n",
    "https://help.uis.cam.ac.uk/service/network-services/hosting-services/AWS/aws-security-privacy\n",
    "\n",
    "Security Rules in AWS \n",
    "\n",
    "https://docs.aws.amazon.com/AmazonRDS/latest/UserGuide/USER_VPC.Scenarios.html#USER_VPC.Scenario4"
   ]
  },
  {
   "cell_type": "markdown",
   "id": "9d3ee6ce",
   "metadata": {
    "id": "9d3ee6ce"
   },
   "source": [
    "### Installing Your Library\n",
    "\n",
    "One artefact to be included in your submission is a python library structured according to the \"Access, Assess, Address\" standard for data science solutions. You will submit this library alongside your code. Use the cell below to perform the necessary installation instructions for your library.\n",
    "\n",
    "You should base your module on the template repository given by the Fynesse template repository. That should make it `pip` installable as below. \n",
    "\n"
   ]
  },
  {
   "cell_type": "code",
   "execution_count": 1,
   "id": "13f71cb7",
   "metadata": {
    "execution": {
     "iopub.execute_input": "2023-11-09T16:54:45.006580Z",
     "iopub.status.busy": "2023-11-09T16:54:45.006449Z",
     "iopub.status.idle": "2023-11-09T16:54:47.415607Z",
     "shell.execute_reply": "2023-11-09T16:54:47.414928Z",
     "shell.execute_reply.started": "2023-11-09T16:54:45.006566Z"
    },
    "id": "13f71cb7"
   },
   "outputs": [
    {
     "name": "stdout",
     "output_type": "stream",
     "text": [
      "Note: you may need to restart the kernel to use updated packages.\n"
     ]
    }
   ],
   "source": [
    "%pip install git+https://github.com/xt0r3-Cambridge/ads_fynesse_repo -Uqq"
   ]
  },
  {
   "cell_type": "markdown",
   "id": "c2fafca0",
   "metadata": {
    "id": "c2fafca0"
   },
   "source": [
    "Your own library should be installed in the line above, then you can import it as usual (where you can either replace `fynesse` with the name you've given your analysis module or you can leave the name as `fynesse` as you prefer)."
   ]
  },
  {
   "cell_type": "markdown",
   "id": "17879f8f-a7a1-4590-8852-b1ce28e9bf83",
   "metadata": {},
   "source": [
    "## Global Control Variables"
   ]
  },
  {
   "cell_type": "code",
   "execution_count": 2,
   "id": "6d105ddb-5ea4-4a56-be08-b108e0a1e8eb",
   "metadata": {
    "execution": {
     "iopub.execute_input": "2023-11-09T16:54:47.418115Z",
     "iopub.status.busy": "2023-11-09T16:54:47.417414Z",
     "iopub.status.idle": "2023-11-09T16:54:47.422337Z",
     "shell.execute_reply": "2023-11-09T16:54:47.421434Z",
     "shell.execute_reply.started": "2023-11-09T16:54:47.418070Z"
    }
   },
   "outputs": [],
   "source": [
    "FORCE_RELOAD = False"
   ]
  },
  {
   "cell_type": "markdown",
   "id": "052c9cb6-4f04-4761-9ed7-69a55c95e87d",
   "metadata": {},
   "source": [
    "## Imports"
   ]
  },
  {
   "cell_type": "code",
   "execution_count": 3,
   "id": "49516151-e5ba-4c04-a902-faa45108df50",
   "metadata": {
    "execution": {
     "iopub.execute_input": "2023-11-09T16:54:47.424045Z",
     "iopub.status.busy": "2023-11-09T16:54:47.423728Z",
     "iopub.status.idle": "2023-11-09T16:54:47.437698Z",
     "shell.execute_reply": "2023-11-09T16:54:47.437131Z",
     "shell.execute_reply.started": "2023-11-09T16:54:47.424012Z"
    }
   },
   "outputs": [],
   "source": [
    "%load_ext autoreload\n",
    "%autoreload 2"
   ]
  },
  {
   "cell_type": "code",
   "execution_count": 4,
   "id": "32456ab0-d04f-4219-831f-12d13e0172b6",
   "metadata": {
    "execution": {
     "iopub.execute_input": "2023-11-09T16:54:47.438412Z",
     "iopub.status.busy": "2023-11-09T16:54:47.438291Z",
     "iopub.status.idle": "2023-11-09T16:54:47.445405Z",
     "shell.execute_reply": "2023-11-09T16:54:47.444892Z",
     "shell.execute_reply.started": "2023-11-09T16:54:47.438399Z"
    }
   },
   "outputs": [
    {
     "name": "stdout",
     "output_type": "stream",
     "text": [
      "Object `fynesse.access` not found.\n"
     ]
    }
   ],
   "source": [
    "# from urllib.request import Request, urlopen\n",
    "# import requests\n",
    "# req = Request(\n",
    "# ('https://www.getthedata.com/downloads/open_postcode_geo.sql.zip', headers=headers)#, \"pois.sql.zip\", headers=headers)\n",
    "\n",
    "%psource fynesse.access\n",
    "# .legal()"
   ]
  },
  {
   "cell_type": "code",
   "execution_count": 5,
   "id": "2ee17c31-8338-4893-b2b2-ad4d340db67d",
   "metadata": {
    "execution": {
     "iopub.execute_input": "2023-11-09T16:54:47.446199Z",
     "iopub.status.busy": "2023-11-09T16:54:47.446067Z",
     "iopub.status.idle": "2023-11-09T16:54:47.493393Z",
     "shell.execute_reply": "2023-11-09T16:54:47.492911Z",
     "shell.execute_reply.started": "2023-11-09T16:54:47.446186Z"
    }
   },
   "outputs": [],
   "source": [
    "from pathlib import Path\n",
    "\n",
    "import yaml\n",
    "from ipywidgets import Password, Text, interact_manual"
   ]
  },
  {
   "cell_type": "markdown",
   "id": "26533cf6",
   "metadata": {
    "id": "26533cf6"
   },
   "source": [
    "## Question 1. Accessing a Database of House Prices, Latitudes and Longitudes\n",
    "\n",
    "The UK price paid data for housing in dates back to 1995 and contains millions of transactions. The size of the data makes it unwieldy to manipulate directly in python frameworks such as `pandas`. As a result we will host the data in a *relational database*. \n",
    "\n",
    "Using the following ideas.\n",
    "\n",
    "1. A cloud hosted database (such as MariaDB hosted on the AWS RDS service).\n",
    "2. The SQL language wrapped in appropriately structured python code.\n",
    "3. Joining of two databases.\n",
    "\n",
    "You will construct a database containing tables that contain all house prices, latitudes and longitudes from the UK house price data base since 1995.\n",
    "\n",
    "You will likely find the following resources helpful.\n",
    "\n",
    "1. Lecture 1, 2 and 3.\n",
    "2. Lab class 1 and 2.\n",
    "3. The UK Price Paid data for houses: <https://www.gov.uk/government/statistical-data-sets/price-paid-data-downloads>\n",
    "4. The UK ONS Data base of postcode latitude and longitudes:  <https://www.getthedata.com/open-postcode-geo>\n",
    "\n",
    "Below we provide codeboxes and hints to help you develop your answer.\n",
    "\n",
    "*The main knowledge you need to do a first pass through this question will have been taught by the end of Lab Session 2 (11th November 2021). You will likely want to review your answer as part of **refactoring** your code  and analysis pipeline shortly before hand in.*\n",
    "\n",
    "*5 Marks*"
   ]
  },
  {
   "cell_type": "markdown",
   "id": "89e4b052-f5da-4f5c-96f9-118dae44df21",
   "metadata": {},
   "source": [
    "## Licenses"
   ]
  },
  {
   "cell_type": "markdown",
   "id": "fd689312",
   "metadata": {
    "id": "fd689312"
   },
   "source": [
    "### Task A\n",
    "\n",
    "Set up the database. You'll need to set up a database on AWS. You were guided in how to do this in the lab sessions. You should be able to use the same database instance you created in the lab, or you can delete that and start with a fresh instance. You'll remember from the lab that the database requires credentials (username, password) to access. It's good practice to store those credentials *outside* the notebook so you don't accidentally share them by e.g. checking code into a repository. \n",
    "  \n",
    "Call the database you use for this assessment `property_prices`.\n",
    "  "
   ]
  },
  {
   "cell_type": "code",
   "execution_count": 6,
   "id": "feaf09b9",
   "metadata": {
    "execution": {
     "iopub.execute_input": "2023-11-09T16:54:47.494055Z",
     "iopub.status.busy": "2023-11-09T16:54:47.493949Z",
     "iopub.status.idle": "2023-11-09T16:54:47.500957Z",
     "shell.execute_reply": "2023-11-09T16:54:47.500427Z",
     "shell.execute_reply.started": "2023-11-09T16:54:47.494043Z"
    },
    "id": "feaf09b9"
   },
   "outputs": [],
   "source": [
    "if not Path(\"credentials.yaml\").exists():\n",
    "\n",
    "    @interact_manual(\n",
    "        username=Text(description=\"Username:\"),\n",
    "        password=Password(description=\"Password:\"),\n",
    "    )\n",
    "    def write_credentials(username, password):\n",
    "        with open(\"credentials.yaml\", \"w\") as file:\n",
    "            credentials_dict = {\"username\": username, \"password\": password}\n",
    "            yaml.dump(credentials_dict, file)"
   ]
  },
  {
   "cell_type": "code",
   "execution_count": 17,
   "id": "b1dc4176-ec4f-44d0-b5fb-2b1fc8e2e62f",
   "metadata": {
    "execution": {
     "iopub.execute_input": "2023-11-09T17:02:23.317261Z",
     "iopub.status.busy": "2023-11-09T17:02:23.316187Z",
     "iopub.status.idle": "2023-11-09T17:02:23.326613Z",
     "shell.execute_reply": "2023-11-09T17:02:23.326154Z",
     "shell.execute_reply.started": "2023-11-09T17:02:23.317210Z"
    }
   },
   "outputs": [],
   "source": [
    "with open(\"credentials.yaml\") as file:\n",
    "    credentials = yaml.safe_load(file)\n",
    "username = credentials[\"username\"]\n",
    "password = credentials[\"password\"]\n",
    "\n",
    "database_details = {\n",
    "    \"url\": \"database-ads-kgs37.cgrre17yxw11.eu-west-2.rds.amazonaws.com\",\n",
    "    \"port\": 3306,\n",
    "}\n",
    "\n",
    "local_database_details = {\n",
    "    'url': 'localhost',\n",
    "    'port': 0,\n",
    "}\n",
    "LOCAL=True\n",
    "if LOCAL:\n",
    "    database_details=local_database_details\n",
    "\n",
    "db_url = database_details[\"url\"]\n",
    "db_port = database_details[\"port\"]"
   ]
  },
  {
   "cell_type": "code",
   "execution_count": 18,
   "id": "036c419d",
   "metadata": {
    "execution": {
     "iopub.execute_input": "2023-11-09T17:02:23.899797Z",
     "iopub.status.busy": "2023-11-09T17:02:23.899113Z",
     "iopub.status.idle": "2023-11-09T17:02:23.908910Z",
     "shell.execute_reply": "2023-11-09T17:02:23.908560Z",
     "shell.execute_reply.started": "2023-11-09T17:02:23.899761Z"
    },
    "id": "036c419d"
   },
   "outputs": [],
   "source": [
    "# Write any other setup code you need for setting up database access here.\n",
    "import pymysql\n",
    "\n",
    "# Connect to the database\n",
    "db = pymysql.connect(\n",
    "    host=db_url,\n",
    "    port=db_port,\n",
    "    user=username,\n",
    "    password=password,\n",
    "    local_infile=True,\n",
    "    # charset=\"utf8mb4\",\n",
    "    cursorclass=pymysql.cursors.DictCursor,\n",
    "    client_flag=pymysql.constants.CLIENT.MULTI_STATEMENTS,\n",
    "    # max_allowed_packet=1024 * 1024 * 1024,\n",
    ")\n",
    "\n",
    "# with connection:\n",
    "# with db.cursor() as cursor:\n",
    "# Create a new record\n",
    "with db.cursor() as cursor:\n",
    "    setup_db = \"\"\"\n",
    "    SET SQL_MODE = \"NO_AUTO_VALUE_ON_ZERO\";\n",
    "    SET time_zone = \"+00:00\";\n",
    "    CREATE DATABASE IF NOT EXISTS `property_prices` DEFAULT CHARACTER SET utf8 COLLATE utf8_bin;\n",
    "    USE `property_prices`;\n",
    "    \"\"\"\n",
    "    cursor.execute(setup_db)\n",
    "\n",
    "#     # connection is not autocommit by default. So you must commit to save\n",
    "#     # your changes.\n",
    "#     connection.commit()\n",
    "\n",
    "#     with connection.cursor() as cursor:\n",
    "#         # Read a single record\n",
    "#         sql = \"SELECT `id`, `password` FROM `users` WHERE `email`=%s\"\n",
    "#         cursor.execute(sql, ('webmaster@python.org',))\n",
    "#         result = cursor.fetchone()\n",
    "#         print(result)\n",
    "# db = fynesse.access.init_database()"
   ]
  },
  {
   "cell_type": "markdown",
   "id": "33c7237f",
   "metadata": {
    "id": "33c7237f"
   },
   "source": [
    "### Task B\n",
    "\n",
    "Create a database table called `pp_data` containing all the UK Price Paid data from the [gov.uk site](https://www.gov.uk/government/statistical-data-sets/price-paid-data-downloads). You'll need to prepare a new table to receive the data and upload the UK Price Paid data to your database instance. The total data is over 3 gigabytes in size. We suggest that rather than downloading the full data in CSV format, you use the fact that they have split the data into years and into different parts per year. For example, the first part of the data for 2018 is stored at <http://prod.publicdata.landregistry.gov.uk.s3-website-eu-west-1.amazonaws.com/pp-2018-part1.csv>. Each of these files is less than 100MB and can be downloaded very quickly to local disk, then uploaded using \n",
    "\n",
    "\n",
    "```\n",
    "LOCAL DATA LOAD INFILE 'filename' INTO TABLE `table_name`\n",
    "FIELDS TERMINATED BY ',' \n",
    "LINES STARTING BY '' TERMINATED BY '\\n';\n",
    "```\n",
    "*Note* this command should be wrapped and placed in an appropriately structured python module. \n",
    "\n",
    "Each 'data part' should be downloadable from the `gov.uk` site and uploadable to your database instance in a couple of seconds. By looping across the years and different parts, you should be able to robustly upload this large data set to your database instance in a matter of minutes. \n",
    "\n",
    "You may find the following schema useful in creation of your database:\n",
    "\n",
    "```\n",
    "--\n",
    "-- Table structure for table `pp_data`\n",
    "--\n",
    "DROP TABLE IF EXISTS `pp_data`;\n",
    "CREATE TABLE IF NOT EXISTS `pp_data` (\n",
    "  `transaction_unique_identifier` tinytext COLLATE utf8_bin NOT NULL,\n",
    "  `price` int(10) unsigned NOT NULL,\n",
    "  `date_of_transfer` date NOT NULL,\n",
    "  `postcode` varchar(8) COLLATE utf8_bin NOT NULL,\n",
    "  `property_type` varchar(1) COLLATE utf8_bin NOT NULL,\n",
    "  `new_build_flag` varchar(1) COLLATE utf8_bin NOT NULL,\n",
    "  `tenure_type` varchar(1) COLLATE utf8_bin NOT NULL,\n",
    "  `primary_addressable_object_name` tinytext COLLATE utf8_bin NOT NULL,\n",
    "  `secondary_addressable_object_name` tinytext COLLATE utf8_bin NOT NULL,\n",
    "  `street` tinytext COLLATE utf8_bin NOT NULL,\n",
    "  `locality` tinytext COLLATE utf8_bin NOT NULL,\n",
    "  `town_city` tinytext COLLATE utf8_bin NOT NULL,\n",
    "  `district` tinytext COLLATE utf8_bin NOT NULL,\n",
    "  `county` tinytext COLLATE utf8_bin NOT NULL,\n",
    "  `ppd_category_type` varchar(2) COLLATE utf8_bin NOT NULL,\n",
    "  `record_status` varchar(2) COLLATE utf8_bin NOT NULL,\n",
    "  `db_id` bigint(20) unsigned NOT NULL\n",
    ") DEFAULT CHARSET=utf8 COLLATE=utf8_bin AUTO_INCREMENT=1 ;\n",
    "```\n",
    "This schema is written by Dale Potter and can be found on Github here: <https://github.com/dalepotter/uk_property_price_data/blob/master/create_db.sql>\n",
    "\n",
    "You may also find it helpful to set up the following primary key in the database\n",
    "\n",
    "```\n",
    "--\n",
    "-- Primary key for table `pp_data`\n",
    "--\n",
    "ALTER TABLE `pp_data`\n",
    "ADD PRIMARY KEY (`db_id`);\n",
    "MODIFY `db_id` bigint(20) unsigned NOT NULL AUTO_INCREMENT,AUTO_INCREMENT=1;\n",
    "```"
   ]
  },
  {
   "cell_type": "code",
   "execution_count": 19,
   "id": "de5e41e5-d5a5-44fe-80be-8b41baf6c038",
   "metadata": {
    "execution": {
     "iopub.execute_input": "2023-11-09T17:02:26.886920Z",
     "iopub.status.busy": "2023-11-09T17:02:26.886539Z",
     "iopub.status.idle": "2023-11-09T17:02:26.893274Z",
     "shell.execute_reply": "2023-11-09T17:02:26.892894Z",
     "shell.execute_reply.started": "2023-11-09T17:02:26.886892Z"
    }
   },
   "outputs": [],
   "source": [
    "import shutil\n",
    "import urllib\n",
    "\n",
    "from tqdm import tqdm"
   ]
  },
  {
   "cell_type": "markdown",
   "id": "e789b174",
   "metadata": {
    "id": "e789b174"
   },
   "source": [
    "In the box below, briefly describe what the schema is doing."
   ]
  },
  {
   "cell_type": "markdown",
   "id": "d7d9d674",
   "metadata": {
    "id": "d7d9d674"
   },
   "source": [
    "```GIVE YOUR WRITTEN ANSWER HERE```\n",
    "\n",
    "\n",
    "TODO: refine this  \n",
    "\n",
    "It gives the types of different columns of the database.  \n",
    "E.g. `varchar(8) COLLATE utf8_bin NOT NULL,` means an `utf_8` encoded character sequence of length at most 8 without missing values."
   ]
  },
  {
   "cell_type": "code",
   "execution_count": 27,
   "id": "4c130f9f-9f7d-49ec-b2e0-78acb6731fa9",
   "metadata": {
    "execution": {
     "iopub.execute_input": "2023-11-09T17:05:15.305174Z",
     "iopub.status.busy": "2023-11-09T17:05:15.304734Z",
     "iopub.status.idle": "2023-11-09T17:05:15.313599Z",
     "shell.execute_reply": "2023-11-09T17:05:15.313160Z",
     "shell.execute_reply.started": "2023-11-09T17:05:15.305142Z"
    }
   },
   "outputs": [],
   "source": [
    "def fetch_url(url, filepath):\n",
    "    # Add headers to request so that the site knows to serve it\n",
    "    headers = {\n",
    "        \"User-Agent\": \"Mozilla/5.0 (Windows NT 6.1) AppleWebKit/537.36 (KHTML, like Gecko) Chrome/41.0.2228.0 Safari/537.3\"\n",
    "    }\n",
    "    req = urllib.request.Request(\n",
    "        url=url,\n",
    "        headers=headers,\n",
    "    )\n",
    "    # Download the file from `url` and save it locally under `filepath`:\n",
    "    with urllib.request.urlopen(req) as response, open(filepath, \"wb\") as out_file:\n",
    "        shutil.copyfileobj(response, out_file)"
   ]
  },
  {
   "cell_type": "code",
   "execution_count": 21,
   "id": "65fa28f1-f1ef-40d6-bf88-e38a2f8432ec",
   "metadata": {
    "execution": {
     "iopub.execute_input": "2023-11-09T17:02:28.576643Z",
     "iopub.status.busy": "2023-11-09T17:02:28.576221Z",
     "iopub.status.idle": "2023-11-09T17:02:28.584664Z",
     "shell.execute_reply": "2023-11-09T17:02:28.584309Z",
     "shell.execute_reply.started": "2023-11-09T17:02:28.576601Z"
    }
   },
   "outputs": [],
   "source": [
    "year_range = range(2018, 2023)\n",
    "\n",
    "for year in year_range:\n",
    "    for part in [1, 2]:\n",
    "        filepath = Path(f\"../data/{year}_{part}.csv\")\n",
    "        if not filepath.exists() or FORCE_RELOAD:\n",
    "            fetch_url(\n",
    "                f\"http://prod.publicdata.landregistry.gov.uk.s3-website-eu-west-1.amazonaws.com/pp-{year}-part{part}.csv\",\n",
    "                filepath,\n",
    "            )\n",
    "\n",
    "# for year in [2023]:\n",
    "#     filepath = Path(f'../data/{year}')\n",
    "#     if not filepath.exists() or FORCE_RELOAD:\n",
    "#         fetch_url(f'http://prod.publicdata.landregistry.gov.uk.s3-website-eu-west-1.amazonaws.com/pp-{year}.csv', filepath)"
   ]
  },
  {
   "cell_type": "code",
   "execution_count": 22,
   "id": "139880ac-912b-457b-98c0-8f668d2c5747",
   "metadata": {
    "execution": {
     "iopub.execute_input": "2023-11-09T17:02:28.862831Z",
     "iopub.status.busy": "2023-11-09T17:02:28.862218Z",
     "iopub.status.idle": "2023-11-09T17:02:28.869726Z",
     "shell.execute_reply": "2023-11-09T17:02:28.869355Z",
     "shell.execute_reply.started": "2023-11-09T17:02:28.862779Z"
    }
   },
   "outputs": [],
   "source": [
    "with db.cursor() as cursor:\n",
    "    # Create a new record\n",
    "    setup_db = \"\"\"\n",
    "SET SQL_MODE = \"NO_AUTO_VALUE_ON_ZERO\";\n",
    "SET time_zone = \"+00:00\";\n",
    "CREATE DATABASE IF NOT EXISTS `property_prices` DEFAULT CHARACTER SET utf8 COLLATE utf8_bin;\n",
    "USE `property_prices`;\n",
    "\"\"\"\n",
    "    cursor.execute(setup_db)"
   ]
  },
  {
   "cell_type": "code",
   "execution_count": 40,
   "id": "a8551035-11bb-4421-943c-ef334fd15c07",
   "metadata": {
    "execution": {
     "iopub.execute_input": "2023-11-09T17:10:52.612198Z",
     "iopub.status.busy": "2023-11-09T17:10:52.611585Z",
     "iopub.status.idle": "2023-11-09T17:10:52.619903Z",
     "shell.execute_reply": "2023-11-09T17:10:52.619327Z",
     "shell.execute_reply.started": "2023-11-09T17:10:52.612149Z"
    }
   },
   "outputs": [],
   "source": [
    "def upload_csv(db, filepath, table):\n",
    "    # TODO: fix SQL injection\n",
    "    upload_command = f\"\"\"\n",
    "LOAD DATA LOCAL INFILE %s INTO TABLE `{table}`\n",
    "FIELDS TERMINATED BY ',' \n",
    "LINES STARTING BY '' TERMINATED BY '\\n';\n",
    "\"\"\"\n",
    "    with db.cursor() as cursor:\n",
    "        cursor.execute(upload_command, (filepath, ))"
   ]
  },
  {
   "cell_type": "code",
   "execution_count": 41,
   "id": "92da8c96",
   "metadata": {
    "execution": {
     "iopub.execute_input": "2023-11-09T17:10:52.717070Z",
     "iopub.status.busy": "2023-11-09T17:10:52.716888Z",
     "iopub.status.idle": "2023-11-09T17:11:12.684964Z",
     "shell.execute_reply": "2023-11-09T17:11:12.684651Z",
     "shell.execute_reply.started": "2023-11-09T17:10:52.717056Z"
    },
    "id": "92da8c96"
   },
   "outputs": [
    {
     "name": "stderr",
     "output_type": "stream",
     "text": [
      "100%|███████████████████████████████████████████| 13/13 [00:19<00:00,  1.53s/it]\n"
     ]
    }
   ],
   "source": [
    "# Write the code you need for creating the database table and uploading the data here.\n",
    "\n",
    "\n",
    "create_pp_data_table = \"\"\"\n",
    "--\n",
    "-- Table structure for table `pp_data`\n",
    "--\n",
    "DROP TABLE IF EXISTS `pp_data`;\n",
    "CREATE TABLE IF NOT EXISTS `pp_data` (\n",
    "  `transaction_unique_identifier` tinytext COLLATE utf8_bin NOT NULL,\n",
    "  `price` int(10) unsigned NOT NULL,\n",
    "  `date_of_transfer` date NOT NULL,\n",
    "  `postcode` varchar(8) COLLATE utf8_bin NOT NULL,\n",
    "  `property_type` varchar(1) COLLATE utf8_bin NOT NULL,\n",
    "  `new_build_flag` varchar(1) COLLATE utf8_bin NOT NULL,\n",
    "  `tenure_type` varchar(1) COLLATE utf8_bin NOT NULL,\n",
    "  `primary_addressable_object_name` tinytext COLLATE utf8_bin NOT NULL,\n",
    "  `secondary_addressable_object_name` tinytext COLLATE utf8_bin NOT NULL,\n",
    "  `street` tinytext COLLATE utf8_bin NOT NULL,\n",
    "  `locality` tinytext COLLATE utf8_bin NOT NULL,\n",
    "  `town_city` tinytext COLLATE utf8_bin NOT NULL,\n",
    "  `district` tinytext COLLATE utf8_bin NOT NULL,\n",
    "  `county` tinytext COLLATE utf8_bin NOT NULL,\n",
    "  `ppd_category_type` varchar(2) COLLATE utf8_bin NOT NULL,\n",
    "  `record_status` varchar(2) COLLATE utf8_bin NOT NULL,\n",
    "  `db_id` bigint(20) unsigned NOT NULL\n",
    ") DEFAULT CHARSET=utf8 COLLATE=utf8_bin AUTO_INCREMENT=1 ;\n",
    "\"\"\"\n",
    "with db.cursor() as cursor:\n",
    "    cursor.execute(create_pp_data_table)\n",
    "\n",
    "for filepath in tqdm(list(Path(\"../data\").iterdir())):\n",
    "    if filepath.suffix == '.csv':\n",
    "        upload_csv(db, filepath.resolve(), 'pp_data')"
   ]
  },
  {
   "cell_type": "markdown",
   "id": "bb9ece66",
   "metadata": {
    "id": "bb9ece66"
   },
   "source": [
    "### Task C\n",
    "\n",
    "Create a database table called `postcode_data` containing the ONS Postcode information. <GetTheData.com> has organised data derived from the UK Office for National Statistics into a convenient CSV file. You can find details [here](https://www.getthedata.com/open-postcode-geo).\n",
    "\n",
    "\n",
    "The data you need can be found at this url: <https://www.getthedata.com/downloads/open_postcode_geo.csv.zip>. It will need to be unzipped before use.\n",
    "\n",
    "You may find the following schema useful for the postcode data (developed by Christian and Neil)\n",
    "\n",
    "```\n",
    "USE `property_prices`;\n",
    "--\n",
    "-- Table structure for table `postcode_data`\n",
    "--\n",
    "DROP TABLE IF EXISTS `postcode_data`;\n",
    "CREATE TABLE IF NOT EXISTS `postcode_data` (\n",
    "  `postcode` varchar(8) COLLATE utf8_bin NOT NULL,\n",
    "  `status` enum('live','terminated') NOT NULL,\n",
    "  `usertype` enum('small', 'large') NOT NULL,\n",
    "  `easting` int unsigned,\n",
    "  `northing` int unsigned,\n",
    "  `positional_quality_indicator` int NOT NULL,\n",
    "  `country` enum('England', 'Wales', 'Scotland', 'Northern Ireland', 'Channel Islands', 'Isle of Man') NOT NULL,\n",
    "  `lattitude` decimal(11,8) NOT NULL,\n",
    "  `longitude` decimal(10,8) NOT NULL,\n",
    "  `postcode_no_space` tinytext COLLATE utf8_bin NOT NULL,\n",
    "  `postcode_fixed_width_seven` varchar(7) COLLATE utf8_bin NOT NULL,\n",
    "  `postcode_fixed_width_eight` varchar(8) COLLATE utf8_bin NOT NULL,\n",
    "  `postcode_area` varchar(2) COLLATE utf8_bin NOT NULL,\n",
    "  `postcode_district` varchar(4) COLLATE utf8_bin NOT NULL,\n",
    "  `postcode_sector` varchar(6) COLLATE utf8_bin NOT NULL,\n",
    "  `outcode` varchar(4) COLLATE utf8_bin NOT NULL,\n",
    "  `incode` varchar(3)  COLLATE utf8_bin NOT NULL,\n",
    "  `db_id` bigint(20) unsigned NOT NULL\n",
    ") DEFAULT CHARSET=utf8 COLLATE=utf8_bin;\n",
    "```\n",
    "\n",
    "And you can load the CSV file into the table in one \"INFILE\".\n",
    "\n",
    "```\n",
    "LOAD DATA LOCAL INFILE 'open_postcode_geo.csv' INTO TABLE `postcode_data`\n",
    "FIELDS TERMINATED BY ',' \n",
    "LINES STARTING BY '' TERMINATED BY '\\n';\n",
    "```"
   ]
  },
  {
   "cell_type": "code",
   "execution_count": 29,
   "id": "b91d79a1-bb31-4f35-bd19-8ef7fdb72de3",
   "metadata": {
    "execution": {
     "iopub.execute_input": "2023-11-09T17:07:33.525317Z",
     "iopub.status.busy": "2023-11-09T17:07:33.524730Z",
     "iopub.status.idle": "2023-11-09T17:07:33.534684Z",
     "shell.execute_reply": "2023-11-09T17:07:33.534169Z",
     "shell.execute_reply.started": "2023-11-09T17:07:33.525287Z"
    }
   },
   "outputs": [],
   "source": [
    "import zipfile"
   ]
  },
  {
   "cell_type": "code",
   "execution_count": null,
   "id": "7fa6a03d-d4b9-46f9-8af8-c4cd8896ac1a",
   "metadata": {},
   "outputs": [],
   "source": []
  },
  {
   "cell_type": "code",
   "execution_count": 47,
   "id": "e71ded92-e4da-4ed6-bba1-ce3bb917a094",
   "metadata": {
    "execution": {
     "iopub.execute_input": "2023-11-09T17:12:29.485495Z",
     "iopub.status.busy": "2023-11-09T17:12:29.484693Z",
     "iopub.status.idle": "2023-11-09T17:12:29.492485Z",
     "shell.execute_reply": "2023-11-09T17:12:29.491777Z",
     "shell.execute_reply.started": "2023-11-09T17:12:29.485470Z"
    }
   },
   "outputs": [],
   "source": [
    "postcode_data_path = Path(f'../data/postcode_data')\n",
    "if not postcode_data_path.exists() or FORCE_RELOAD:\n",
    "    zip_path = Path(f'{postcode_data_path}.zip')\n",
    "    fetch_url('https://www.getthedata.com/downloads/open_postcode_geo.csv.zip', zip_path)\n",
    "    \n",
    "    with zipfile.ZipFile(zip_path, 'r') as zip_ref:\n",
    "        zip_ref.extractall(postcode_data_path)"
   ]
  },
  {
   "cell_type": "code",
   "execution_count": 49,
   "id": "3653b103-83e1-4beb-bfd4-357c131f584a",
   "metadata": {
    "execution": {
     "iopub.execute_input": "2023-11-09T17:13:41.305558Z",
     "iopub.status.busy": "2023-11-09T17:13:41.304981Z",
     "iopub.status.idle": "2023-11-09T17:13:51.101449Z",
     "shell.execute_reply": "2023-11-09T17:13:51.100411Z",
     "shell.execute_reply.started": "2023-11-09T17:13:41.305512Z"
    }
   },
   "outputs": [
    {
     "name": "stderr",
     "output_type": "stream",
     "text": [
      "100%|█████████████████████████████████████████████| 4/4 [00:09<00:00,  2.44s/it]\n"
     ]
    }
   ],
   "source": [
    "create_postcode_data_table=\"\"\"\n",
    "USE `property_prices`;\n",
    "--\n",
    "-- Table structure for table `postcode_data`\n",
    "--\n",
    "DROP TABLE IF EXISTS `postcode_data`;\n",
    "CREATE TABLE IF NOT EXISTS `postcode_data` (\n",
    "  `postcode` varchar(8) COLLATE utf8_bin NOT NULL,\n",
    "  `status` enum('live','terminated') NOT NULL,\n",
    "  `usertype` enum('small', 'large') NOT NULL,\n",
    "  `easting` int unsigned,\n",
    "  `northing` int unsigned,\n",
    "  `positional_quality_indicator` int NOT NULL,\n",
    "  `country` enum('England', 'Wales', 'Scotland', 'Northern Ireland', 'Channel Islands', 'Isle of Man') NOT NULL,\n",
    "  `lattitude` decimal(11,8) NOT NULL,\n",
    "  `longitude` decimal(10,8) NOT NULL,\n",
    "  `postcode_no_space` tinytext COLLATE utf8_bin NOT NULL,\n",
    "  `postcode_fixed_width_seven` varchar(7) COLLATE utf8_bin NOT NULL,\n",
    "  `postcode_fixed_width_eight` varchar(8) COLLATE utf8_bin NOT NULL,\n",
    "  `postcode_area` varchar(2) COLLATE utf8_bin NOT NULL,\n",
    "  `postcode_district` varchar(4) COLLATE utf8_bin NOT NULL,\n",
    "  `postcode_sector` varchar(6) COLLATE utf8_bin NOT NULL,\n",
    "  `outcode` varchar(4) COLLATE utf8_bin NOT NULL,\n",
    "  `incode` varchar(3)  COLLATE utf8_bin NOT NULL,\n",
    "  `db_id` bigint(20) unsigned NOT NULL\n",
    ") DEFAULT CHARSET=utf8 COLLATE=utf8_bin;\n",
    "\"\"\"\n",
    "\n",
    "upload_postcode_data=\"\"\"\n",
    "LOAD DATA LOCAL INFILE 'open_postcode_geo.csv' INTO TABLE `postcode_data`\n",
    "FIELDS TERMINATED BY ',' \n",
    "LINES STARTING BY '' TERMINATED BY '\\n';\n",
    "\"\"\"\n",
    "\n",
    "with db.cursor() as cursor:\n",
    "    cursor.execute(create_postcode_data_table)\n",
    "    \n",
    "for filepath in tqdm(list(Path(postcode_data_path).iterdir())):\n",
    "    if filepath.suffix == '.csv':\n",
    "        upload_csv(db, filepath.resolve(), 'pp_data')"
   ]
  },
  {
   "cell_type": "markdown",
   "id": "d67ca4ef",
   "metadata": {
    "id": "d67ca4ef"
   },
   "source": [
    "### Task D \n",
    "\n",
    "These data can now be joined to form a new table that contains house price paid and latitude longitude of the house. We could create a new table that contains all this information. However, the computation of that table will take some time because of the size of the two existing tables in the join. \n",
    "\n",
    "Instead, we're going to exploit the nature of the task. To build our prediction model, we're going to use the prices for a particular region in a given time period. This means we can select that region and time period and build the joined data only from the relevent rows from the two tables. This will save time on the join.\n",
    "\n",
    "Whether this is a good idea or not in a live system will depend on how often these predictions are required. If it's very often, it would likely be better to store the entired database joined, because the one-off cost for that join is amortised across all the future predictions. If only a few predictions are required (like in our lab class) then doing that join on the fly might be better. In that case you can make use of an  *inner join* for this data set creation.\n",
    "\n",
    "```\n",
    "USE `property_prices`;\n",
    "--\n",
    "-- Table structure for table `prices_coordinates_data`\n",
    "--\n",
    "DROP TABLE IF EXISTS `prices_coordinates_data`;\n",
    "CREATE TABLE IF NOT EXISTS `prices_coordinates_data` (\n",
    "  `price` int(10) unsigned NOT NULL,\n",
    "  `date_of_transfer` date NOT NULL,\n",
    "  `postcode` varchar(8) COLLATE utf8_bin NOT NULL,\n",
    "  `property_type` varchar(1) COLLATE utf8_bin NOT NULL,\n",
    "  `new_build_flag` varchar(1) COLLATE utf8_bin NOT NULL,\n",
    "  `tenure_type` varchar(1) COLLATE utf8_bin NOT NULL,\n",
    "  `locality` tinytext COLLATE utf8_bin NOT NULL,\n",
    "  `town_city` tinytext COLLATE utf8_bin NOT NULL,\n",
    "  `district` tinytext COLLATE utf8_bin NOT NULL,\n",
    "  `county` tinytext COLLATE utf8_bin NOT NULL,\n",
    "  `country` enum('England', 'Wales', 'Scotland', 'Northern Ireland', 'Channel Islands', 'Isle of Man') NOT NULL,\n",
    "  `lattitude` decimal(11,8) NOT NULL,\n",
    "  `longitude` decimal(10,8) NOT NULL,\n",
    "  `db_id` bigint(20) unsigned NOT NULL\n",
    ") DEFAULT CHARSET=utf8 COLLATE=utf8_bin AUTO_INCREMENT=1 ;\n",
    "\n",
    "\n",
    "```\n",
    "\n"
   ]
  },
  {
   "cell_type": "code",
   "execution_count": 50,
   "id": "f2e29f34-c9b6-40bd-ab96-5d82c5123d7a",
   "metadata": {
    "execution": {
     "iopub.execute_input": "2023-11-09T17:14:39.464888Z",
     "iopub.status.busy": "2023-11-09T17:14:39.464240Z",
     "iopub.status.idle": "2023-11-09T17:14:39.483111Z",
     "shell.execute_reply": "2023-11-09T17:14:39.482435Z",
     "shell.execute_reply.started": "2023-11-09T17:14:39.464858Z"
    }
   },
   "outputs": [],
   "source": [
    "join_query = \"\"\"USE `property_prices`;\n",
    "--\n",
    "-- Table structure for table `prices_coordinates_data`\n",
    "--\n",
    "DROP TABLE IF EXISTS `prices_coordinates_data`;\n",
    "CREATE TABLE IF NOT EXISTS `prices_coordinates_data` (\n",
    "  `price` int(10) unsigned NOT NULL,\n",
    "  `date_of_transfer` date NOT NULL,\n",
    "  `postcode` varchar(8) COLLATE utf8_bin NOT NULL,\n",
    "  `property_type` varchar(1) COLLATE utf8_bin NOT NULL,\n",
    "  `new_build_flag` varchar(1) COLLATE utf8_bin NOT NULL,\n",
    "  `tenure_type` varchar(1) COLLATE utf8_bin NOT NULL,\n",
    "  `locality` tinytext COLLATE utf8_bin NOT NULL,\n",
    "  `town_city` tinytext COLLATE utf8_bin NOT NULL,\n",
    "  `district` tinytext COLLATE utf8_bin NOT NULL,\n",
    "  `county` tinytext COLLATE utf8_bin NOT NULL,\n",
    "  `country` enum('England', 'Wales', 'Scotland', 'Northern Ireland', 'Channel Islands', 'Isle of Man') NOT NULL,\n",
    "  `lattitude` decimal(11,8) NOT NULL,\n",
    "  `longitude` decimal(10,8) NOT NULL,\n",
    "  `db_id` bigint(20) unsigned NOT NULL\n",
    ") DEFAULT CHARSET=utf8 COLLATE=utf8_bin AUTO_INCREMENT=1 ;\"\"\"\n",
    "\n",
    "with db.cursor() as cursor:\n",
    "    cursor.execute(join_query)"
   ]
  },
  {
   "cell_type": "markdown",
   "id": "df36e5d1",
   "metadata": {
    "id": "df36e5d1"
   },
   "source": [
    "## Question 2. Accessing OpenStreetMap and Assessing the Available Features\n",
    "\n",
    "In question 3 you will be given the task of constructing a prediction system for property price levels at a given location. We expect that knowledge of the local region around the property should be helpful in making those price predictions. To evaluate this we will now look at [OpenStreetMap](https://www.openstreetmap.org) as a data source.\n",
    "\n",
    "The tasks below will guide you in accessing and assessing the OpenStreetMap data. The code you write will eventually be assimilated in your python module, but documentation of what you've included and why should remain in the notebook below. \n",
    "\n",
    "Accessing OpenStreetMap through its API can be done using the python library `osmx`. Using what you have learned about the `osmx` interface in the lectures, write general code for downloading points of interest and other relevant information that you believe may be useful for predicting house prices. Remembering the perspectives we've taken on *data science as debugging*, the remarks we've made when discussing *the data crisis* of the importance of reusability in data analysis, and the techniques we've explored in the labsessions for visualising features and exploring their correlation use the notebook to document your assessment of the OpenStreetMap data as a potential source of data.\n",
    "\n",
    "The knowledge you need to do a first pass through this question will have been taught by end of lab session three (16th November 2021). You will likely want to review your answer as part of *refactoring* your code and analysis pipeline shortly before hand in.\n",
    "\n",
    "You should write reusable code that allows you to explore the characteristics of different points of interest. Looking ahead to question 3 you'll want to incorporate these points of interest in your prediction code.\n",
    "\n",
    "*5 marks*\n"
   ]
  },
  {
   "cell_type": "code",
   "execution_count": 16,
   "id": "042a2863",
   "metadata": {
    "execution": {
     "iopub.execute_input": "2023-11-09T16:59:09.038422Z",
     "iopub.status.busy": "2023-11-09T16:59:09.038179Z",
     "iopub.status.idle": "2023-11-09T16:59:09.047097Z",
     "shell.execute_reply": "2023-11-09T16:59:09.046528Z",
     "shell.execute_reply.started": "2023-11-09T16:59:09.038397Z"
    },
    "id": "042a2863"
   },
   "outputs": [],
   "source": [
    "# Use this cell and cells below for summarising your analysis and documenting your decision making."
   ]
  },
  {
   "cell_type": "markdown",
   "id": "09a0e365",
   "metadata": {
    "id": "09a0e365"
   },
   "source": [
    "## Question 3. Addressing a Property Price Prediction Question\n",
    "\n",
    "For your final tick, we will be asking you to make house price predictions for a given location, date and property type in the UK. You will provide a function that takes input a latitude and longitude as well as the `property_type` (either type\" of property (either `F` - flat, `S` - semidetached, `D` - detached, `T` - terraced or `O` other). Create this function in the `address.py` file, for example in the form,\n",
    "\n",
    "```\n",
    "def predict_price(latitude, longitude, date, property_type):\n",
    "    \"\"\"Price prediction for UK housing.\"\"\"\n",
    "    pass\n",
    "```\n",
    "\n",
    "We suggest that you use the following approach when building your prediction. \n",
    "\n",
    "1. Select a bounding box around the housing location in latitude and longitude.\n",
    "2. Select a data range around the prediction date. \n",
    "3. Use the data ecosystem you have build above to build a training set from the relevant time period and location in the UK. Include appropriate features from OSM to improve the prediction.\n",
    "4. Train a linear model on the data set you have created.\n",
    "5. Validate the quality of the model.\n",
    "6. Provide a prediction of the price from the model, warning appropriately if your validation indicates the quality of the model is poor.\n",
    "\n",
    "The knowledge you need to do a first pass through this question will have been taught by end of lab session four (25th November 2021). You will likely want to review your answer as part of *refactoring* your code shortly before hand in.\n",
    "\n"
   ]
  }
 ],
 "metadata": {
  "colab": {
   "provenance": []
  },
  "kernelspec": {
   "display_name": "Python 3 (ipykernel)",
   "language": "python",
   "name": "python3"
  },
  "language_info": {
   "codemirror_mode": {
    "name": "ipython",
    "version": 3
   },
   "file_extension": ".py",
   "mimetype": "text/x-python",
   "name": "python",
   "nbconvert_exporter": "python",
   "pygments_lexer": "ipython3",
   "version": "3.8.18"
  }
 },
 "nbformat": 4,
 "nbformat_minor": 5
}
